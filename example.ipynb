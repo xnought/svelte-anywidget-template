{
 "cells": [
  {
   "cell_type": "code",
   "execution_count": 1,
   "metadata": {},
   "outputs": [],
   "source": [
    "import pathlib\n",
    "import anywidget\n",
    "import traitlets\n",
    "\n",
    "_DEV = True # switch to False for production\n",
    "\n",
    "if _DEV:\n",
    "  # from `npx vite`\n",
    "  ESM = \"http://localhost:5173/src/main.js?anywidget\"\n",
    "  CSS = \"\"\n",
    "else:\n",
    "  # from `npx vite build`\n",
    "  ESM = (pathlib.Path(\"./build/main.js\")).read_text()\n",
    "  CSS = (pathlib.Path(\"./build/style.css\")).read_text()\n",
    "\n",
    "class Counter(anywidget.AnyWidget):\n",
    "  _esm = ESM\n",
    "  _css = CSS\n",
    "  value = traitlets.Int(0).tag(sync=True)"
   ]
  },
  {
   "cell_type": "code",
   "execution_count": 2,
   "metadata": {},
   "outputs": [],
   "source": [
    "c = Counter()"
   ]
  },
  {
   "cell_type": "code",
   "execution_count": 3,
   "metadata": {},
   "outputs": [
    {
     "data": {
      "application/vnd.jupyter.widget-view+json": {
       "model_id": "afb128e8485b4805a36cfb25fda1df1d",
       "version_major": 2,
       "version_minor": 0
      },
      "text/plain": [
       "Counter()"
      ]
     },
     "execution_count": 3,
     "metadata": {},
     "output_type": "execute_result"
    }
   ],
   "source": [
    "c"
   ]
  },
  {
   "cell_type": "code",
   "execution_count": 5,
   "metadata": {},
   "outputs": [],
   "source": [
    "c.value = 10"
   ]
  },
  {
   "cell_type": "code",
   "execution_count": null,
   "metadata": {},
   "outputs": [],
   "source": []
  }
 ],
 "metadata": {
  "kernelspec": {
   "display_name": "Python 3",
   "language": "python",
   "name": "python3"
  },
  "language_info": {
   "codemirror_mode": {
    "name": "ipython",
    "version": 3
   },
   "file_extension": ".py",
   "mimetype": "text/x-python",
   "name": "python",
   "nbconvert_exporter": "python",
   "pygments_lexer": "ipython3",
   "version": "3.11.2"
  },
  "orig_nbformat": 4
 },
 "nbformat": 4,
 "nbformat_minor": 2
}
